{
 "cells": [
  {
   "cell_type": "code",
   "execution_count": 1,
   "metadata": {},
   "outputs": [],
   "source": [
    "from imutils import face_utils\n",
    "import numpy as np\n",
    "import imutils\n",
    "import dlib\n",
    "import cv2 as cv\n",
    "import matplotlib.pyplot as plt\n",
    "\n",
    "from scipy.spatial import distance as dist"
   ]
  },
  {
   "cell_type": "code",
   "execution_count": 2,
   "metadata": {},
   "outputs": [],
   "source": [
    "def eye_detect(eye):\n",
    "    x1 = dist.euclidean(eye[1], eye[5])\n",
    "    x2 = dist.euclidean(eye[2], eye[4])\n",
    "    x3 = dist.euclidean(eye[0], eye[3])\n",
    "\n",
    "    ear = (x1+x2) / (2*x3)\n",
    "    return ear"
   ]
  },
  {
   "cell_type": "code",
   "execution_count": 3,
   "metadata": {},
   "outputs": [],
   "source": [
    "detector = dlib.get_frontal_face_detector()\n",
    "predictor = dlib.shape_predictor(\"shape_predictor_68_face_landmarks.dat\")"
   ]
  },
  {
   "cell_type": "code",
   "execution_count": 4,
   "metadata": {},
   "outputs": [],
   "source": [
    "thresh_blink = 0.34\n",
    "consec_frames = 3\n",
    "\n",
    "count = 0\n",
    "tot = 0"
   ]
  },
  {
   "cell_type": "code",
   "execution_count": 5,
   "metadata": {},
   "outputs": [],
   "source": [
    "(l_start, l_end) = face_utils.FACIAL_LANDMARKS_IDXS[\"left_eye\"]\n",
    "(r_start, r_end) = face_utils.FACIAL_LANDMARKS_IDXS[\"right_eye\"]"
   ]
  },
  {
   "cell_type": "code",
   "execution_count": 6,
   "metadata": {},
   "outputs": [],
   "source": [
    "capture = cv.VideoCapture(0)\n",
    "cod = cv.VideoWriter_fourcc(*'XVID')\n",
    "\n",
    "if (capture.isOpened() == False): \n",
    "    print(\"Error in opening webcam\")\n",
    "\n",
    "w  = int(capture.get(3))\n",
    "h = int(capture.get(4))\n",
    "fps = int(capture.get(5))\n",
    "\n",
    "video = cv.VideoWriter(r\"C:\\Users\\MSI\\Desktop\\Face\\blink_detection.mp4\", cod, fps/4, (w,h))"
   ]
  },
  {
   "cell_type": "code",
   "execution_count": 7,
   "metadata": {},
   "outputs": [],
   "source": [
    "while True:\n",
    "    if capture.get(cv.CAP_PROP_POS_FRAMES) == capture.get(cv.CAP_PROP_FRAME_COUNT):\n",
    "        capture.set(cv.CAP_PROP_POS_FRAMES, 0)\n",
    "    else:\n",
    "        ret, im = capture.read()\n",
    "        im = imutils.resize(im, width=w)\n",
    "        im_gray = cv.cvtColor(im, cv.COLOR_BGR2GRAY)\n",
    "\n",
    "        rects = detector(im_gray, 1)\n",
    "        for rect in rects:\n",
    "            ident = predictor(im_gray, rect)\n",
    "            ident = face_utils.shape_to_np(ident)\n",
    "\n",
    "            leftEye = ident[l_start:l_end]\n",
    "            rightEye = ident[r_start:r_end]\n",
    "            left_EAR = eye_detect(leftEye)\n",
    "            right_EAR = eye_detect(rightEye)\n",
    "\n",
    "            avg_ear = (left_EAR + right_EAR) / 2.0\n",
    "            left_Hull = cv.convexHull(leftEye)\n",
    "            right_Hull = cv.convexHull(rightEye)\n",
    "            cv.drawContours(im, [left_Hull], -1, (0, 255, 0), 1)\n",
    "            cv.drawContours(im, [right_Hull], -1, (0, 255, 0), 1)\n",
    "\n",
    "            if avg_ear < thresh_blink:\n",
    "                count += 1\n",
    "\n",
    "            else:\n",
    "                if count >= consec_frames:\n",
    "                    tot += 1\n",
    "                    cv.putText(im, \"Blink Detected\", (200, 30), cv.FONT_HERSHEY_DUPLEX, 1, (0, 255, 0), 3)\n",
    "\n",
    "                count = 0\n",
    "\n",
    "            cv.putText(im, \"Blinks: {}\".format(tot), (10, 30), cv.FONT_HERSHEY_DUPLEX, 0.75, (0, 0, 255), 2)\n",
    "            cv.putText(im, \"EAR: {:.2f}\".format(avg_ear), (500, 30), cv.FONT_HERSHEY_DUPLEX, 0.75, (0, 0, 255), 2)\n",
    "        cv.imshow(\"Frame\", im)\n",
    "\n",
    "        if cv.waitKey(1) & 0xFF == ord('x'):\n",
    "            break\n",
    "\n",
    "    video.write(im)\n",
    "\n",
    "\n",
    "capture.release()\n",
    "video.release()\n",
    "cv.destroyAllWindows()\n",
    "    "
   ]
  }
 ],
 "metadata": {
  "kernelspec": {
   "display_name": "Python 3.10.6 64-bit",
   "language": "python",
   "name": "python3"
  },
  "language_info": {
   "codemirror_mode": {
    "name": "ipython",
    "version": 3
   },
   "file_extension": ".py",
   "mimetype": "text/x-python",
   "name": "python",
   "nbconvert_exporter": "python",
   "pygments_lexer": "ipython3",
   "version": "3.10.6"
  },
  "orig_nbformat": 4,
  "vscode": {
   "interpreter": {
    "hash": "369f2c481f4da34e4445cda3fffd2e751bd1c4d706f27375911949ba6bb62e1c"
   }
  }
 },
 "nbformat": 4,
 "nbformat_minor": 2
}
