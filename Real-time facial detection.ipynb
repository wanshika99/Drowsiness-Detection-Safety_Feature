{
 "cells": [
  {
   "cell_type": "code",
   "execution_count": 5,
   "metadata": {},
   "outputs": [],
   "source": [
    "from imutils import face_utils\n",
    "import numpy as np\n",
    "import imutils\n",
    "import dlib\n",
    "import cv2 as cv\n",
    "import matplotlib.pyplot as plt"
   ]
  },
  {
   "cell_type": "code",
   "execution_count": 6,
   "metadata": {},
   "outputs": [],
   "source": [
    "def boundingbox(rect):\n",
    "    x = rect.left()\n",
    "    y = rect.top()\n",
    "    w = rect.right() - x\n",
    "    h = rect.bottom() - y\n",
    "\n",
    "    return (x, y, w, h)"
   ]
  },
  {
   "cell_type": "code",
   "execution_count": 7,
   "metadata": {},
   "outputs": [],
   "source": [
    "detector = dlib.get_frontal_face_detector()\n",
    "predictor = dlib.shape_predictor(\"shape_predictor_68_face_landmarks.dat\")"
   ]
  },
  {
   "cell_type": "code",
   "execution_count": 8,
   "metadata": {},
   "outputs": [],
   "source": [
    "capture = cv.VideoCapture(0)\n",
    "cod = cv.VideoWriter_fourcc(*'XVID')\n",
    "\n",
    "if (capture.isOpened() == False): \n",
    "    print(\"Error in opening webcam\")\n",
    "\n",
    "w  = int(capture.get(3))\n",
    "h = int(capture.get(4))\n",
    "fps = int(capture.get(5))\n",
    "\n",
    "video = cv.VideoWriter(r\"C:\\Users\\MSI\\Desktop\\Face\\cam_video.mp4\", cod, fps, (w,h))\n",
    "\n",
    "while True:\n",
    "    ret, im = capture.read()\n",
    "    im_gray = cv.cvtColor(im, cv.COLOR_BGR2GRAY)\n",
    "\n",
    "    rects = detector(im_gray, 1)\n",
    "    for (i, rect) in enumerate(rects):\n",
    "        ident = predictor(im_gray, rect)\n",
    "        ident = face_utils.shape_to_np(ident)\n",
    "\n",
    "        (x, y, w, h) = face_utils.rect_to_bb(rect)\n",
    "        cv.rectangle(im, (x, y), (x + w, y + h), (0, 0, 255), 1)\n",
    "        cv.putText(im, \"Face {}\".format(i + 1), (x - 10, y - 10), cv.FONT_HERSHEY_DUPLEX, 0.7, (0, 0, 255), 2)\n",
    "\n",
    "        for (x, y) in ident:\n",
    "            cv.circle(im, (x, y), 2, (0, 255, 0), -1)\n",
    "\n",
    "    cv.imshow(\"Frame\", im)\n",
    "\n",
    "    if cv.waitKey(1) & 0xFF == ord('x'):\n",
    "        break\n",
    "\n",
    "    video.write(im)\n",
    "\n",
    "\n",
    "capture.release()\n",
    "video.release()\n",
    "cv.destroyAllWindows()"
   ]
  }
 ],
 "metadata": {
  "kernelspec": {
   "display_name": "Python 3.10.6 64-bit",
   "language": "python",
   "name": "python3"
  },
  "language_info": {
   "codemirror_mode": {
    "name": "ipython",
    "version": 3
   },
   "file_extension": ".py",
   "mimetype": "text/x-python",
   "name": "python",
   "nbconvert_exporter": "python",
   "pygments_lexer": "ipython3",
   "version": "3.10.6"
  },
  "orig_nbformat": 4,
  "vscode": {
   "interpreter": {
    "hash": "369f2c481f4da34e4445cda3fffd2e751bd1c4d706f27375911949ba6bb62e1c"
   }
  }
 },
 "nbformat": 4,
 "nbformat_minor": 2
}
